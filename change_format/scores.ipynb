{
 "cells": [
  {
   "cell_type": "code",
   "execution_count": 13,
   "metadata": {},
   "outputs": [],
   "source": [
    "import pandas as pd \n",
    "\n",
    "SAMPLE_DEFINITION_NAMING = {\n",
    "    \"instances\": \"all_samples_per_participant\",\n",
    "    \"eids\": \"average_per_participant\",\n",
    "    \"*\": \"all_samples_when_possible_otherwise_average\",\n",
    "}\n",
    "COLUMNS_TO_TAKE = {\n",
    "    \"organ\": \"dimension\",\n",
    "    \"view\": \"subdimension\",\n",
    "    \"transformation\": \"sub_subdimension\",\n",
    "    \"architecture\": \"algorithm\",\n",
    "    \"N_all\": \"sample_size\",\n",
    "    \"RMSE_all\": \"rmse\",\n",
    "    \"RMSE_sd_all\": \"rmse_std\",\n",
    "    \"R-Squared_all\": \"r2\",\n",
    "    \"R-Squared_sd_all\": \"r2_std\",\n",
    "    \"C-Index_all\": \"c_index\",\n",
    "    \"C-Index_sd_all\": \"c_index_std\"\n",
    "}\n",
    "DICT_TO_CHANGE_DIMENSIONS = {\"ImmuneSystem\": \"BloodCells\"}\n",
    "\n",
    "sample_definition = \"eids\"\n",
    "\n",
    "scores = pd.read_csv(f\"../data/PERFORMANCES_withEnsembles_withCI_alphabetical_{sample_definition}_Age_test.csv\")[COLUMNS_TO_TAKE].rename(columns=COLUMNS_TO_TAKE)\n",
    "scores.loc[(scores[\"dimension\"] == \"Musculoskeletal\") & (scores[\"sub_subdimension\"] == \"MRI\"), \"sub_subdimension\"] = \"DXA\"\n",
    "scores.replace(DICT_TO_CHANGE_DIMENSIONS, inplace=True)"
   ]
  },
  {
   "cell_type": "code",
   "execution_count": 16,
   "metadata": {},
   "outputs": [],
   "source": [
    "scores.to_feather(\"../data/scores.feather\")"
   ]
  }
 ],
 "metadata": {
  "kernelspec": {
   "display_name": "Python 3.9.5 64-bit ('env_container': venv)",
   "name": "python395jvsc74a57bd08d267ed2ab293fd6220862529672f41c08ea8dcd337a91f472157f130a88f4ed"
  },
  "language_info": {
   "codemirror_mode": {
    "name": "ipython",
    "version": 3
   },
   "file_extension": ".py",
   "mimetype": "text/x-python",
   "name": "python",
   "nbconvert_exporter": "python",
   "pygments_lexer": "ipython3",
   "version": "3.9.5"
  },
  "orig_nbformat": 2
 },
 "nbformat": 4,
 "nbformat_minor": 2
}